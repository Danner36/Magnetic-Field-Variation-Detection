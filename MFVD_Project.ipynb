{
 "cells": [
  {
   "cell_type": "code",
   "execution_count": null,
   "metadata": {
    "scrolled": false
   },
   "outputs": [],
   "source": [
    "import HMC5883L_Library as hmc\n",
    "%matplotlib inline"
   ]
  },
  {
   "cell_type": "code",
   "execution_count": null,
   "metadata": {
    "scrolled": false
   },
   "outputs": [],
   "source": [
    "###  MAIN PROGRAM   ###\n",
    "\n",
    "# Prompts user to configure settings/options associated with the HMC5883L.\n",
    "hmc.Settings_Config()\n",
    "\n",
    "i = 0\n",
    "\n",
    "# Entire program runs on a loop until explicitly exited.\n",
    "while(1):\n",
    "    \n",
    "    # Clears output terminal.\n",
    "    hmc.clear_output()\n",
    "    \n",
    "    # Responisble for prompting user and recording the input.\n",
    "    hmc.Prompt_Iteration_Amount(i)\n",
    "    \n",
    "    # Prepares the ESP32 for data transmission.\n",
    "    hmc.Begin_Signal()\n",
    "\n",
    "    hmc.Set_Average()\n",
    "    \n",
    "    # Constantly reads in 1 seconds worth of data (160 data points). Prints out\n",
    "    #   strength of signal based on min and max of the FFT's frequency ratio.\n",
    "    if(hmc.Operation_Mode == \"CONTINUOUS_MODE\"):\n",
    "        while(1):\n",
    "            \n",
    "            # Collects incoming data from the ESP32/HMC5883L.\n",
    "            df = hmc.Collect_Data()\n",
    "            \n",
    "            # Clears output terminal.\n",
    "            hmc.clear_output()\n",
    "\n",
    "            # Displays signal strength to screen.\n",
    "            hmc.Display_Signal_Strength(df,i)\n",
    "    \n",
    "    # Reads in a user set amount of data. Proceeds to save/print out results in table/graph form.\n",
    "    elif(hmc.Operation_Mode == \"STATIONARY_MODE\"):\n",
    "        \n",
    "        # Estimates time until completion of data collection and plotting.\n",
    "        hmc.Time_Until_Done()\n",
    "        \n",
    "        # Collects incoming data from the ESP32/HMC5883L.\n",
    "        df = hmc.Collect_Data()\n",
    "        \n",
    "        # Displays the data collected from the magnetometer.\n",
    "        hmc.Display_Table(df) #DataFrame Table\n",
    "        hmc.Display_DF(df,i)  #DataFrame Graph\n",
    "        hmc.Display_FFT(df)   #DataFrame FFT\n",
    "\n",
    "        # Prompts user to decide if they wish to continue or quit.\n",
    "        print(\"Do you want to Quit? [Y / n]\")\n",
    "        quit = input()\n",
    "        if(quit == 'Y'):\n",
    "            # Closes serial port.\n",
    "            hmc.Serial_Close()\n",
    "            break\n",
    "        else:\n",
    "            i = i + 1"
   ]
  },
  {
   "cell_type": "code",
   "execution_count": null,
   "metadata": {
    "collapsed": true
   },
   "outputs": [],
   "source": []
  }
 ],
 "metadata": {
  "kernelspec": {
   "display_name": "Python 3",
   "language": "python",
   "name": "python3"
  },
  "language_info": {
   "codemirror_mode": {
    "name": "ipython",
    "version": 3
   },
   "file_extension": ".py",
   "mimetype": "text/x-python",
   "name": "python",
   "nbconvert_exporter": "python",
   "pygments_lexer": "ipython3",
   "version": "3.6.1"
  }
 },
 "nbformat": 4,
 "nbformat_minor": 2
}
