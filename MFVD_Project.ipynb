{
 "cells": [
  {
   "cell_type": "code",
   "execution_count": 1,
   "metadata": {
    "collapsed": true,
    "scrolled": true
   },
   "outputs": [],
   "source": [
    "import HMC5883L_Library as hmc\n",
    "%matplotlib inline"
   ]
  },
  {
   "cell_type": "code",
   "execution_count": null,
   "metadata": {
    "scrolled": false
   },
   "outputs": [
    {
     "name": "stdout",
     "output_type": "stream",
     "text": [
      "Iteration #8\n",
      "--------------------------------------------------\n",
      "Enter desired data points: \n",
      "25\n",
      "--------------------------------------------------\n",
      "Time remaining: 4seconds\n",
      "--------------------------------------------------\n",
      "        X     Y     Z\n",
      "25  -2.97 -1.07  0.77\n",
      "24   5.03 -9.07 -1.23\n",
      "23   4.03 -2.07 -2.23\n",
      "22   1.03  2.93  0.77\n",
      "21  -3.97  5.93 -0.23\n",
      "20   8.03 -5.07  1.77\n",
      "19  -9.97  3.93  2.77\n",
      "18  16.03  2.93  0.77\n",
      "17 -14.97  4.93  1.77\n",
      "16  19.03 -5.07 -0.23\n",
      "15 -20.97  0.93  0.77\n",
      "14  21.03 -2.07 -5.23\n",
      "13 -22.97  7.93  1.77\n",
      "12  21.03  3.93 -5.23\n",
      "11 -21.97  4.93  2.77\n",
      "10  25.03 -1.07 -4.23\n",
      "9  -24.97  0.93  3.77\n",
      "8   25.03 -0.07 -1.23\n",
      "7  -19.97  4.93  2.77\n",
      "6   20.03 -4.07 -3.23\n",
      "5  -15.97 -1.07  2.77\n",
      "4   16.03 -6.07 -1.23\n",
      "3  -12.97  2.93  0.77\n",
      "2   11.03 -7.07 -2.23\n",
      "1   -6.97  6.93  3.77\n",
      "0    8.03 -2.07 -2.23\n",
      "--------------------------------------------------\n",
      "Saved #5040 in: /home/jared/Desktop/mfvd/Saves\n",
      "--------------------------------------------------\n",
      "Do you want to Quit? [Y / n]\n"
     ]
    }
   ],
   "source": [
    "###   MAIN PROGRAM   ###\n",
    "\n",
    "#Prompts user to configure settings/options associated with the HMC5883L.\n",
    "hmc.Settings_Config()\n",
    "\n",
    "i = 0\n",
    "\n",
    "#Entire program runs on a loop until explicitly exited.\n",
    "while(1):\n",
    "    \n",
    "    #Clears output terminal.\n",
    "    hmc.clear_output()\n",
    "    \n",
    "    #Responisble for prompting user and recording the input.\n",
    "    hmc.Prompt_Iteration_Amount(i)\n",
    "    \n",
    "    #Prepares the ESP32 for data Transmission.\n",
    "    hmc.Begin_Signal()\n",
    "    \n",
    "    #Collects incoming data from the ESP32.\n",
    "    df = hmc.Collect_Data()\n",
    "    \n",
    "    #Graphs the data collected from the ESP32.\n",
    "    hmc.DataFrame_Print(df)\n",
    "    hmc.DataFrame_Plot(df,i)\n",
    "    \n",
    "    #Prompts the user to save file or discard.\n",
    "    hmc.Save_To_File(df)\n",
    "    \n",
    "    #Prompts user to decide if they wish to continue or quit.\n",
    "    print(\"Do you want to Quit? [Y / n]\")\n",
    "    quit = input()\n",
    "    if(quit == 'Y'):\n",
    "        hmc.Serial_Close()\n",
    "        break\n",
    "    else:\n",
    "        i = i + 1"
   ]
  },
  {
   "cell_type": "code",
   "execution_count": null,
   "metadata": {
    "collapsed": true
   },
   "outputs": [],
   "source": []
  }
 ],
 "metadata": {
  "kernelspec": {
   "display_name": "Python 3",
   "language": "python",
   "name": "python3"
  },
  "language_info": {
   "codemirror_mode": {
    "name": "ipython",
    "version": 3
   },
   "file_extension": ".py",
   "mimetype": "text/x-python",
   "name": "python",
   "nbconvert_exporter": "python",
   "pygments_lexer": "ipython3",
   "version": "3.5.2+"
  }
 },
 "nbformat": 4,
 "nbformat_minor": 2
}
