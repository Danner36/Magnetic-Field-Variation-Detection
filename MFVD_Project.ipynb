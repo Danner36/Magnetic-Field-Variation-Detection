{
 "cells": [
  {
   "cell_type": "code",
   "execution_count": 1,
   "metadata": {
    "collapsed": true,
    "scrolled": true
   },
   "outputs": [],
   "source": [
    "import BNO055_Library as bno\n",
    "%matplotlib inline"
   ]
  },
  {
   "cell_type": "code",
   "execution_count": null,
   "metadata": {
    "scrolled": false
   },
   "outputs": [
    {
     "name": "stdout",
     "output_type": "stream",
     "text": [
      "-------------------------------------------------- \n",
      "SETTINGS MENU: \n",
      "\n",
      "System Speed: 0.008\n",
      "Change Speed? Y/n\n"
     ]
    }
   ],
   "source": [
    "###   MAIN PROGRAM   ###\n",
    "\n",
    "#Prompts user to configure settings/options associated with the BNO055.\n",
    "bno.Settings_Config()\n",
    "\n",
    "i = 0\n",
    "\n",
    "#Entire program runs on a loop until explicitly exited.\n",
    "while(1):\n",
    "    \n",
    "    #Clears output terminal.\n",
    "    bno.clear_output()\n",
    "    \n",
    "    #Responisble for prompting user and recording the input.\n",
    "    bno.Prompt_Iteration_Amount(i)\n",
    "    \n",
    "    #Prepares the ESP32 for data Transmission.\n",
    "    bno.Begin_Signal()\n",
    "    \n",
    "    #Collects incoming data from the ESP32.\n",
    "    df = bno.Collect_Data()\n",
    "    \n",
    "    #Graphs the data collected from the ESP32.\n",
    "    bno.DataFrame_Print(df)\n",
    "    bno.DataFrame_Plot(df, i)\n",
    "    \n",
    "    #Prompts the user to save file or discard.\n",
    "    bno.Save_To_File(df, i)\n",
    "    \n",
    "    #Prompts user to decide if they wish to continue or quit.\n",
    "    print(\"Do you want to Quit? [Y / n]\")\n",
    "    quit = input()\n",
    "    if(quit == 'Y'):\n",
    "        break\n",
    "    else:\n",
    "        i = i + 1\n",
    "        "
   ]
  }
 ],
 "metadata": {
  "kernelspec": {
   "display_name": "Python 3",
   "language": "python",
   "name": "python3"
  },
  "language_info": {
   "codemirror_mode": {
    "name": "ipython",
    "version": 3
   },
   "file_extension": ".py",
   "mimetype": "text/x-python",
   "name": "python",
   "nbconvert_exporter": "python",
   "pygments_lexer": "ipython3",
   "version": "3.5.2+"
  }
 },
 "nbformat": 4,
 "nbformat_minor": 2
}
